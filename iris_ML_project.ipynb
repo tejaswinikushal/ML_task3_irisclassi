{
 "cells": [
  {
   "cell_type": "markdown",
   "id": "8791f22b-8abf-46a6-8fa6-3c03dbcd0c66",
   "metadata": {},
   "source": [
    "## Iris classification:\n",
    "### Develop a ML model for classifying iris flowers based on their features using python,scikit learn and Tensorflow\n",
    "### Import Libraries"
   ]
  },
  {
   "cell_type": "code",
   "execution_count": 2,
   "id": "8d7cdbaa-0d80-4e4f-a1e9-b10fc16f65fd",
   "metadata": {},
   "outputs": [],
   "source": [
    "# Import necessary libraries\n",
    "import numpy as np\n",
    "import pandas as pd\n",
    "import matplotlib.pyplot as plt\n",
    "from sklearn.model_selection import train_test_split\n",
    "from sklearn.preprocessing import StandardScaler, LabelEncoder\n",
    "from sklearn.metrics import accuracy_score, confusion_matrix, classification_report\n",
    "from sklearn.datasets import load_iris\n",
    "\n",
    "import tensorflow as tf\n",
    "from tensorflow.keras.models import Sequential\n",
    "from tensorflow.keras.layers import Dense"
   ]
  },
  {
   "cell_type": "code",
   "execution_count": 3,
   "id": "b34f7c5f-45e7-4f0a-b5b5-b32199a780eb",
   "metadata": {},
   "outputs": [],
   "source": [
    "# Load the iris dataset\n",
    "iris = load_iris()\n",
    "X = iris.data\n",
    "y = iris.target\n"
   ]
  },
  {
   "cell_type": "code",
   "execution_count": 4,
   "id": "b7e2c0a5-48ef-4b5d-a985-1aa8ffd45706",
   "metadata": {},
   "outputs": [],
   "source": [
    "# Split the data into training and testing sets\n",
    "X_train, X_test, y_train, y_test = train_test_split(X, y, test_size=0.2, random_state=42)\n"
   ]
  },
  {
   "cell_type": "code",
   "execution_count": 5,
   "id": "9204eb6d-c047-4bf1-83b5-4f4229d9cd49",
   "metadata": {},
   "outputs": [],
   "source": [
    "# Standardize the features\n",
    "scaler = StandardScaler()\n",
    "X_train = scaler.fit_transform(X_train)\n",
    "X_test = scaler.transform(X_test)"
   ]
  },
  {
   "cell_type": "code",
   "execution_count": 6,
   "id": "9fc9ad26-3968-4a31-917d-acb42cde7306",
   "metadata": {},
   "outputs": [],
   "source": [
    "# Encode the target variable\n",
    "le = LabelEncoder()\n",
    "y_train = le.fit_transform(y_train)\n",
    "y_test = le.transform(y_test)"
   ]
  },
  {
   "cell_type": "code",
   "execution_count": 7,
   "id": "56dcb73e-7880-473b-ad36-0c14d0b48818",
   "metadata": {},
   "outputs": [],
   "source": [
    "# Train a Support Vector Machine (SVM)\n",
    "from sklearn.svm import SVC\n",
    "\n",
    "svm_model = SVC(kernel='linear', C=1)\n",
    "svm_model.fit(X_train, y_train)\n",
    "svm_predictions = svm_model.predict(X_test)"
   ]
  },
  {
   "cell_type": "code",
   "execution_count": 8,
   "id": "99b2052d-e9f1-4cd3-a5d6-7ef81a44d76c",
   "metadata": {},
   "outputs": [
    {
     "name": "stdout",
     "output_type": "stream",
     "text": [
      "Support Vector Machine:\n",
      "Accuracy: 0.9666666666666667\n",
      "[[10  0  0]\n",
      " [ 0  8  1]\n",
      " [ 0  0 11]]\n",
      "              precision    recall  f1-score   support\n",
      "\n",
      "           0       1.00      1.00      1.00        10\n",
      "           1       1.00      0.89      0.94         9\n",
      "           2       0.92      1.00      0.96        11\n",
      "\n",
      "    accuracy                           0.97        30\n",
      "   macro avg       0.97      0.96      0.97        30\n",
      "weighted avg       0.97      0.97      0.97        30\n",
      "\n"
     ]
    }
   ],
   "source": [
    "# Evaluate the SVM model\n",
    "svm_accuracy = accuracy_score(y_test, svm_predictions)\n",
    "print(\"Support Vector Machine:\")\n",
    "print(f\"Accuracy: {svm_accuracy}\")\n",
    "print(confusion_matrix(y_test, svm_predictions))\n",
    "print(classification_report(y_test, svm_predictions))\n"
   ]
  },
  {
   "cell_type": "code",
   "execution_count": 9,
   "id": "d9c04416-4532-4e3d-a699-86dd227a5c54",
   "metadata": {},
   "outputs": [],
   "source": [
    "# Train a Neural Network using TensorFlow\n",
    "model = Sequential([\n",
    "    Dense(8, input_shape=(4,), activation='relu'),\n",
    "    Dense(3, activation='softmax')\n",
    "])"
   ]
  },
  {
   "cell_type": "code",
   "execution_count": 11,
   "id": "f70832d5-b4c7-4fad-a2cb-641dfec3ec4f",
   "metadata": {},
   "outputs": [
    {
     "name": "stdout",
     "output_type": "stream",
     "text": [
      "Epoch 1/50\n",
      "7/7 [==============================] - 1s 34ms/step - loss: 0.4640 - accuracy: 0.8241 - val_loss: 0.6905 - val_accuracy: 0.7500\n",
      "Epoch 2/50\n",
      "7/7 [==============================] - 0s 7ms/step - loss: 0.4563 - accuracy: 0.8241 - val_loss: 0.6854 - val_accuracy: 0.7500\n",
      "Epoch 3/50\n",
      "7/7 [==============================] - 0s 8ms/step - loss: 0.4488 - accuracy: 0.8241 - val_loss: 0.6806 - val_accuracy: 0.7500\n",
      "Epoch 4/50\n",
      "7/7 [==============================] - 0s 8ms/step - loss: 0.4422 - accuracy: 0.8241 - val_loss: 0.6759 - val_accuracy: 0.7500\n",
      "Epoch 5/50\n",
      "7/7 [==============================] - 0s 7ms/step - loss: 0.4360 - accuracy: 0.8241 - val_loss: 0.6713 - val_accuracy: 0.7500\n",
      "Epoch 6/50\n",
      "7/7 [==============================] - 0s 8ms/step - loss: 0.4297 - accuracy: 0.8241 - val_loss: 0.6670 - val_accuracy: 0.7500\n",
      "Epoch 7/50\n",
      "7/7 [==============================] - 0s 8ms/step - loss: 0.4237 - accuracy: 0.8241 - val_loss: 0.6628 - val_accuracy: 0.7500\n",
      "Epoch 8/50\n",
      "7/7 [==============================] - 0s 8ms/step - loss: 0.4181 - accuracy: 0.8241 - val_loss: 0.6589 - val_accuracy: 0.7500\n",
      "Epoch 9/50\n",
      "7/7 [==============================] - 0s 8ms/step - loss: 0.4125 - accuracy: 0.8241 - val_loss: 0.6550 - val_accuracy: 0.7500\n",
      "Epoch 10/50\n",
      "7/7 [==============================] - 0s 8ms/step - loss: 0.4073 - accuracy: 0.8241 - val_loss: 0.6512 - val_accuracy: 0.7500\n",
      "Epoch 11/50\n",
      "7/7 [==============================] - 0s 8ms/step - loss: 0.4024 - accuracy: 0.8241 - val_loss: 0.6476 - val_accuracy: 0.7500\n",
      "Epoch 12/50\n",
      "7/7 [==============================] - 0s 8ms/step - loss: 0.3975 - accuracy: 0.8241 - val_loss: 0.6442 - val_accuracy: 0.7500\n",
      "Epoch 13/50\n",
      "7/7 [==============================] - 0s 7ms/step - loss: 0.3930 - accuracy: 0.8148 - val_loss: 0.6407 - val_accuracy: 0.7500\n",
      "Epoch 14/50\n",
      "7/7 [==============================] - 0s 7ms/step - loss: 0.3886 - accuracy: 0.8148 - val_loss: 0.6379 - val_accuracy: 0.7500\n",
      "Epoch 15/50\n",
      "7/7 [==============================] - 0s 7ms/step - loss: 0.3841 - accuracy: 0.8148 - val_loss: 0.6349 - val_accuracy: 0.7500\n",
      "Epoch 16/50\n",
      "7/7 [==============================] - 0s 7ms/step - loss: 0.3799 - accuracy: 0.8148 - val_loss: 0.6321 - val_accuracy: 0.7500\n",
      "Epoch 17/50\n",
      "7/7 [==============================] - 0s 7ms/step - loss: 0.3757 - accuracy: 0.8148 - val_loss: 0.6292 - val_accuracy: 0.7500\n",
      "Epoch 18/50\n",
      "7/7 [==============================] - 0s 7ms/step - loss: 0.3718 - accuracy: 0.8148 - val_loss: 0.6266 - val_accuracy: 0.7500\n",
      "Epoch 19/50\n",
      "7/7 [==============================] - 0s 7ms/step - loss: 0.3684 - accuracy: 0.8241 - val_loss: 0.6239 - val_accuracy: 0.7500\n",
      "Epoch 20/50\n",
      "7/7 [==============================] - 0s 7ms/step - loss: 0.3646 - accuracy: 0.8241 - val_loss: 0.6215 - val_accuracy: 0.7500\n",
      "Epoch 21/50\n",
      "7/7 [==============================] - 0s 7ms/step - loss: 0.3610 - accuracy: 0.8333 - val_loss: 0.6190 - val_accuracy: 0.7500\n",
      "Epoch 22/50\n",
      "7/7 [==============================] - 0s 7ms/step - loss: 0.3580 - accuracy: 0.8333 - val_loss: 0.6163 - val_accuracy: 0.7500\n",
      "Epoch 23/50\n",
      "7/7 [==============================] - 0s 7ms/step - loss: 0.3543 - accuracy: 0.8333 - val_loss: 0.6140 - val_accuracy: 0.7500\n",
      "Epoch 24/50\n",
      "7/7 [==============================] - 0s 7ms/step - loss: 0.3510 - accuracy: 0.8333 - val_loss: 0.6116 - val_accuracy: 0.7500\n",
      "Epoch 25/50\n",
      "7/7 [==============================] - 0s 7ms/step - loss: 0.3477 - accuracy: 0.8333 - val_loss: 0.6092 - val_accuracy: 0.7500\n",
      "Epoch 26/50\n",
      "7/7 [==============================] - 0s 8ms/step - loss: 0.3446 - accuracy: 0.8333 - val_loss: 0.6070 - val_accuracy: 0.7500\n",
      "Epoch 27/50\n",
      "7/7 [==============================] - 0s 8ms/step - loss: 0.3416 - accuracy: 0.8333 - val_loss: 0.6050 - val_accuracy: 0.7500\n",
      "Epoch 28/50\n",
      "7/7 [==============================] - 0s 7ms/step - loss: 0.3387 - accuracy: 0.8426 - val_loss: 0.6029 - val_accuracy: 0.7500\n",
      "Epoch 29/50\n",
      "7/7 [==============================] - 0s 8ms/step - loss: 0.3357 - accuracy: 0.8426 - val_loss: 0.6006 - val_accuracy: 0.7500\n",
      "Epoch 30/50\n",
      "7/7 [==============================] - 0s 8ms/step - loss: 0.3329 - accuracy: 0.8426 - val_loss: 0.5988 - val_accuracy: 0.7500\n",
      "Epoch 31/50\n",
      "7/7 [==============================] - 0s 7ms/step - loss: 0.3303 - accuracy: 0.8426 - val_loss: 0.5969 - val_accuracy: 0.7500\n",
      "Epoch 32/50\n",
      "7/7 [==============================] - 0s 15ms/step - loss: 0.3273 - accuracy: 0.8426 - val_loss: 0.5952 - val_accuracy: 0.7500\n",
      "Epoch 33/50\n",
      "7/7 [==============================] - 0s 7ms/step - loss: 0.3251 - accuracy: 0.8426 - val_loss: 0.5937 - val_accuracy: 0.7500\n",
      "Epoch 34/50\n",
      "7/7 [==============================] - 0s 7ms/step - loss: 0.3222 - accuracy: 0.8426 - val_loss: 0.5919 - val_accuracy: 0.7500\n",
      "Epoch 35/50\n",
      "7/7 [==============================] - 0s 7ms/step - loss: 0.3197 - accuracy: 0.8426 - val_loss: 0.5899 - val_accuracy: 0.7500\n",
      "Epoch 36/50\n",
      "7/7 [==============================] - 0s 11ms/step - loss: 0.3171 - accuracy: 0.8426 - val_loss: 0.5885 - val_accuracy: 0.7500\n",
      "Epoch 37/50\n",
      "7/7 [==============================] - 0s 7ms/step - loss: 0.3147 - accuracy: 0.8426 - val_loss: 0.5867 - val_accuracy: 0.7500\n",
      "Epoch 38/50\n",
      "7/7 [==============================] - 0s 7ms/step - loss: 0.3122 - accuracy: 0.8426 - val_loss: 0.5851 - val_accuracy: 0.7500\n",
      "Epoch 39/50\n",
      "7/7 [==============================] - 0s 7ms/step - loss: 0.3101 - accuracy: 0.8426 - val_loss: 0.5832 - val_accuracy: 0.7500\n",
      "Epoch 40/50\n",
      "7/7 [==============================] - 0s 7ms/step - loss: 0.3075 - accuracy: 0.8426 - val_loss: 0.5816 - val_accuracy: 0.7500\n",
      "Epoch 41/50\n",
      "7/7 [==============================] - 0s 7ms/step - loss: 0.3052 - accuracy: 0.8426 - val_loss: 0.5799 - val_accuracy: 0.7500\n",
      "Epoch 42/50\n",
      "7/7 [==============================] - 0s 7ms/step - loss: 0.3030 - accuracy: 0.8426 - val_loss: 0.5783 - val_accuracy: 0.7500\n",
      "Epoch 43/50\n",
      "7/7 [==============================] - 0s 10ms/step - loss: 0.3012 - accuracy: 0.8426 - val_loss: 0.5773 - val_accuracy: 0.7500\n",
      "Epoch 44/50\n",
      "7/7 [==============================] - 0s 7ms/step - loss: 0.2985 - accuracy: 0.8519 - val_loss: 0.5755 - val_accuracy: 0.7500\n",
      "Epoch 45/50\n",
      "7/7 [==============================] - 0s 7ms/step - loss: 0.2964 - accuracy: 0.8519 - val_loss: 0.5737 - val_accuracy: 0.7500\n",
      "Epoch 46/50\n",
      "7/7 [==============================] - 0s 8ms/step - loss: 0.2944 - accuracy: 0.8519 - val_loss: 0.5726 - val_accuracy: 0.7500\n",
      "Epoch 47/50\n",
      "7/7 [==============================] - 0s 8ms/step - loss: 0.2925 - accuracy: 0.8519 - val_loss: 0.5711 - val_accuracy: 0.8333\n",
      "Epoch 48/50\n",
      "7/7 [==============================] - 0s 8ms/step - loss: 0.2904 - accuracy: 0.8519 - val_loss: 0.5698 - val_accuracy: 0.8333\n",
      "Epoch 49/50\n",
      "7/7 [==============================] - 0s 8ms/step - loss: 0.2884 - accuracy: 0.8519 - val_loss: 0.5682 - val_accuracy: 0.8333\n",
      "Epoch 50/50\n",
      "7/7 [==============================] - 0s 8ms/step - loss: 0.2864 - accuracy: 0.8426 - val_loss: 0.5669 - val_accuracy: 0.8333\n"
     ]
    }
   ],
   "source": [
    "model.compile(optimizer='adam', loss='sparse_categorical_crossentropy', metrics=['accuracy'])\n",
    "history = model.fit(X_train, y_train, epochs=50, batch_size=16, validation_split=0.1, verbose=1)\n"
   ]
  },
  {
   "cell_type": "code",
   "execution_count": 12,
   "id": "a819707a-0c14-47e2-affb-7379c09ec1df",
   "metadata": {},
   "outputs": [
    {
     "name": "stdout",
     "output_type": "stream",
     "text": [
      "\n",
      "Neural Network:\n",
      "Accuracy: 0.9333333373069763\n"
     ]
    }
   ],
   "source": [
    "# Evaluate the Neural Network model\n",
    "nn_accuracy = model.evaluate(X_test, y_test, verbose=0)[1]\n",
    "print(\"\\nNeural Network:\")\n",
    "print(f\"Accuracy: {nn_accuracy}\")"
   ]
  },
  {
   "cell_type": "code",
   "execution_count": 13,
   "id": "6d7aabd2-7f90-4186-86cb-801066b952ed",
   "metadata": {},
   "outputs": [
    {
     "data": {
      "text/plain": [
       "<Figure size 1200x500 with 0 Axes>"
      ]
     },
     "execution_count": 13,
     "metadata": {},
     "output_type": "execute_result"
    },
    {
     "data": {
      "text/plain": [
       "<Figure size 1200x500 with 0 Axes>"
      ]
     },
     "metadata": {},
     "output_type": "display_data"
    }
   ],
   "source": [
    "# Plot the training history\n",
    "plt.figure(figsize=(12, 5))"
   ]
  },
  {
   "cell_type": "code",
   "execution_count": 14,
   "id": "3bcb8b3f-71d0-4a5d-a923-0ef3bd1b6b90",
   "metadata": {},
   "outputs": [
    {
     "data": {
      "text/plain": [
       "<matplotlib.legend.Legend at 0x7f2b0467b700>"
      ]
     },
     "execution_count": 14,
     "metadata": {},
     "output_type": "execute_result"
    },
    {
     "data": {
      "image/png": "[encoded data removed]",
      "text/plain": [
       "<Figure size 640x480 with 1 Axes>"
      ]
     },
     "metadata": {},
     "output_type": "display_data"
    }
   ],
   "source": [
    "# Plot training & validation accuracy values\n",
    "plt.subplot(1, 2, 1)\n",
    "plt.plot(history.history['accuracy'])\n",
    "plt.plot(history.history['val_accuracy'])\n",
    "plt.title('Model accuracy')\n",
    "plt.xlabel('Epoch')\n",
    "plt.ylabel('Accuracy')\n",
    "plt.legend(['Train', 'Validation'], loc='upper left')"
   ]
  },
  {
   "cell_type": "code",
   "execution_count": 15,
   "id": "ca3dfacc-25f2-4948-a58c-c4e51979ab87",
   "metadata": {},
   "outputs": [
    {
     "data": {
      "image/png": "[encoded data removed]",
      "text/plain": [
       "<Figure size 640x480 with 1 Axes>"
      ]
     },
     "metadata": {},
     "output_type": "display_data"
    }
   ],
   "source": [
    "# Plot training & validation loss values\n",
    "plt.subplot(1, 2, 2)\n",
    "plt.plot(history.history['loss'])\n",
    "plt.plot(history.history['val_loss'])\n",
    "plt.title('Model loss')\n",
    "plt.xlabel('Epoch')\n",
    "plt.ylabel('Loss')\n",
    "plt.legend(['Train', 'Validation'], loc='upper left')\n",
    "\n",
    "plt.tight_layout()\n",
    "plt.show()"
   ]
  },
  {
   "cell_type": "markdown",
   "id": "ec33200b-e4e4-40bf-aeb9-ae00e5f0e7fd",
   "metadata": {},
   "source": [
    "#### Assumptions:\n",
    "Dataset Quality:\n",
    "\n",
    "The assumption is made that the iris dataset is reliable, accurate, and representative of real-world scenarios.\n",
    "Model Performance:\n",
    "\n",
    "The assumption is that the performance metrics (accuracy, confusion matrix, classification report) are reasonable indicators of the model's effectiveness.\n",
    "Generalization:\n",
    "\n",
    "The model is assumed to generalize well to unseen data, as it is evaluated on a separate test set."
   ]
  }
 ],
 "metadata": {
  "kernelspec": {
   "display_name": "Python 3 (ipykernel)",
   "language": "python",
   "name": "python3"
  },
  "language_info": {
   "codemirror_mode": {
    "name": "ipython",
    "version": 3
   },
   "file_extension": ".py",
   "mimetype": "text/x-python",
   "name": "python",
   "nbconvert_exporter": "python",
   "pygments_lexer": "ipython3",
   "version": "3.10.8"
  }
 },
 "nbformat": 4,
 "nbformat_minor": 5
}
